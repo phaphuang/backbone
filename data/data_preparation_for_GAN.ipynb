{
 "cells": [
  {
   "cell_type": "code",
   "execution_count": 1,
   "metadata": {
    "scrolled": true
   },
   "outputs": [
    {
     "name": "stderr",
     "output_type": "stream",
     "text": [
      "C:\\Users\\ASUS\\Anaconda3\\envs\\python36\\lib\\site-packages\\numpy\\_distributor_init.py:32: UserWarning: loaded more than 1 DLL from .libs:\n",
      "C:\\Users\\ASUS\\Anaconda3\\envs\\python36\\lib\\site-packages\\numpy\\.libs\\libopenblas.NOIJJG62EMASZI6NYURL6JBKM4EVBGM7.gfortran-win_amd64.dll\n",
      "C:\\Users\\ASUS\\Anaconda3\\envs\\python36\\lib\\site-packages\\numpy\\.libs\\libopenblas.PYQHXLVVQ7VESDPUVUADXEVJOBGHJPAY.gfortran-win_amd64.dll\n",
      "  stacklevel=1)\n"
     ]
    }
   ],
   "source": [
    "import pandas as pd\n",
    "import numpy as np\n",
    "import tensorflow as tf\n",
    "from common.bio.amino_acid import *\n",
    "from common.bio.smiles import *\n",
    "from common.preprocessing.dataframe import *\n",
    "import json\n",
    "import os"
   ]
  },
  {
   "cell_type": "code",
   "execution_count": 2,
   "metadata": {},
   "outputs": [],
   "source": [
    "import csv\n",
    "\n",
    "with open('../data/bmdh_seq_uniprot_full.fasta') as f:\n",
    "    stripped = (line.split(\"\\n\")[0].strip() for line in f)\n",
    "    lines = (line.split(\" \") for line in stripped)\n",
    "    with open(\"../data/bmdh_seq_uniprot_full.csv\", 'w', newline='') as out_file:\n",
    "        writer = csv.writer(out_file)\n",
    "        writer.writerow(('Sequence', 'EC class'))\n",
    "        writer.writerows(lines)"
   ]
  },
  {
   "cell_type": "code",
   "execution_count": 3,
   "metadata": {},
   "outputs": [],
   "source": [
    "SMILES_COLUMNS=['smiles_product_1','smiles_product_2','smiles_substrate_1','smiles_substrate_2']"
   ]
  },
  {
   "cell_type": "code",
   "execution_count": 4,
   "metadata": {},
   "outputs": [],
   "source": [
    "MIN_NUM_EXAMPLES = 200\n",
    "\n",
    "LABEL_COLUMN = \"EC number\"\n",
    "VERSION = \"Single\"\n",
    "MAX_SEQUENCE_LENGTH=512\n",
    "IS_VALIDATION_REQUIRED = False\n",
    "ADD_SMILES=False\n",
    "NUM_THREADS = 1\n",
    "DATA_SOURCE = \"../data/bmdh_seq_uniprot_full.csv\""
   ]
  },
  {
   "cell_type": "markdown",
   "metadata": {},
   "source": [
    "## Loading data"
   ]
  },
  {
   "cell_type": "code",
   "execution_count": 5,
   "metadata": {
    "scrolled": true
   },
   "outputs": [
    {
     "name": "stderr",
     "output_type": "stream",
     "text": [
      "b'Skipping line 4: expected 2 fields, saw 4\\nSkipping line 7809: expected 2 fields, saw 3\\nSkipping line 8936: expected 2 fields, saw 3\\nSkipping line 9024: expected 2 fields, saw 3\\nSkipping line 16289: expected 2 fields, saw 3\\nSkipping line 22233: expected 2 fields, saw 3\\nSkipping line 22341: expected 2 fields, saw 4\\nSkipping line 22696: expected 2 fields, saw 3\\nSkipping line 25600: expected 2 fields, saw 3\\nSkipping line 27759: expected 2 fields, saw 3\\nSkipping line 27763: expected 2 fields, saw 3\\nSkipping line 29570: expected 2 fields, saw 4\\nSkipping line 33041: expected 2 fields, saw 3\\nSkipping line 36722: expected 2 fields, saw 3\\nSkipping line 40320: expected 2 fields, saw 3\\nSkipping line 40323: expected 2 fields, saw 3\\nSkipping line 40368: expected 2 fields, saw 4\\nSkipping line 40392: expected 2 fields, saw 3\\nSkipping line 40396: expected 2 fields, saw 3\\nSkipping line 40653: expected 2 fields, saw 3\\nSkipping line 40711: expected 2 fields, saw 4\\nSkipping line 40712: expected 2 fields, saw 4\\nSkipping line 40984: expected 2 fields, saw 4\\nSkipping line 41009: expected 2 fields, saw 4\\nSkipping line 41013: expected 2 fields, saw 3\\nSkipping line 41103: expected 2 fields, saw 3\\nSkipping line 41328: expected 2 fields, saw 3\\nSkipping line 41329: expected 2 fields, saw 3\\nSkipping line 41357: expected 2 fields, saw 3\\nSkipping line 41643: expected 2 fields, saw 4\\nSkipping line 41656: expected 2 fields, saw 3\\nSkipping line 41685: expected 2 fields, saw 3\\nSkipping line 41690: expected 2 fields, saw 3\\nSkipping line 41713: expected 2 fields, saw 3\\nSkipping line 41725: expected 2 fields, saw 4\\nSkipping line 41977: expected 2 fields, saw 4\\nSkipping line 42084: expected 2 fields, saw 3\\nSkipping line 42370: expected 2 fields, saw 4\\nSkipping line 42431: expected 2 fields, saw 4\\nSkipping line 42432: expected 2 fields, saw 4\\nSkipping line 42433: expected 2 fields, saw 4\\nSkipping line 42681: expected 2 fields, saw 3\\nSkipping line 42701: expected 2 fields, saw 3\\nSkipping line 42715: expected 2 fields, saw 3\\nSkipping line 42805: expected 2 fields, saw 3\\nSkipping line 42958: expected 2 fields, saw 3\\nSkipping line 43067: expected 2 fields, saw 3\\nSkipping line 43098: expected 2 fields, saw 3\\nSkipping line 43107: expected 2 fields, saw 3\\nSkipping line 43129: expected 2 fields, saw 3\\nSkipping line 43142: expected 2 fields, saw 4\\nSkipping line 43143: expected 2 fields, saw 4\\nSkipping line 43205: expected 2 fields, saw 3\\nSkipping line 43433: expected 2 fields, saw 3\\nSkipping line 43759: expected 2 fields, saw 3\\n'\n"
     ]
    },
    {
     "data": {
      "text/plain": [
       "(43708, 2)"
      ]
     },
     "execution_count": 5,
     "metadata": {},
     "output_type": "execute_result"
    }
   ],
   "source": [
    "original_data = pd.read_csv(DATA_SOURCE, sep=',', skipinitialspace=True, error_bad_lines=False).rename(columns={\"EC class\": \"EC number\", \n",
    "                                                                                          \"Sequence\" :\"sequence\"})\n",
    "original_data.shape"
   ]
  },
  {
   "cell_type": "code",
   "execution_count": 6,
   "metadata": {},
   "outputs": [],
   "source": [
    "data = original_data"
   ]
  },
  {
   "cell_type": "code",
   "execution_count": 7,
   "metadata": {},
   "outputs": [
    {
     "data": {
      "text/html": [
       "<div>\n",
       "<style scoped>\n",
       "    .dataframe tbody tr th:only-of-type {\n",
       "        vertical-align: middle;\n",
       "    }\n",
       "\n",
       "    .dataframe tbody tr th {\n",
       "        vertical-align: top;\n",
       "    }\n",
       "\n",
       "    .dataframe thead th {\n",
       "        text-align: right;\n",
       "    }\n",
       "</style>\n",
       "<table border=\"1\" class=\"dataframe\">\n",
       "  <thead>\n",
       "    <tr style=\"text-align: right;\">\n",
       "      <th></th>\n",
       "      <th>sequence</th>\n",
       "      <th>EC number</th>\n",
       "    </tr>\n",
       "  </thead>\n",
       "  <tbody>\n",
       "    <tr>\n",
       "      <th>0</th>\n",
       "      <td>MATATSASLFSTVSSSYSKASSIPHSRLQSVKFNSVPSFTGLKSTS...</td>\n",
       "      <td>1.1.1.37</td>\n",
       "    </tr>\n",
       "    <tr>\n",
       "      <th>1</th>\n",
       "      <td>MITIIGSGRVGTAAAVIMGLLKIDTKILLIDIIKGLPQGEALDMNH...</td>\n",
       "      <td>1.1.1.37</td>\n",
       "    </tr>\n",
       "    <tr>\n",
       "      <th>2</th>\n",
       "      <td>MAKEPMRVLVTGAAGQIGYALVPMIARGVMLGADQPVILHMLDIPP...</td>\n",
       "      <td>1.1.1.37</td>\n",
       "    </tr>\n",
       "    <tr>\n",
       "      <th>3</th>\n",
       "      <td>MSEPIRVLVTGAAGQIAYSLLYSIGNGSVFGKDQPIILVLLDITPM...</td>\n",
       "      <td>1.1.1.37</td>\n",
       "    </tr>\n",
       "    <tr>\n",
       "      <th>4</th>\n",
       "      <td>MTRTPVNVTVTGAAGQIGYALLFRIASGQLLGADVPVKLRLLEITP...</td>\n",
       "      <td>1.1.1.37</td>\n",
       "    </tr>\n",
       "  </tbody>\n",
       "</table>\n",
       "</div>"
      ],
      "text/plain": [
       "                                            sequence EC number\n",
       "0  MATATSASLFSTVSSSYSKASSIPHSRLQSVKFNSVPSFTGLKSTS...  1.1.1.37\n",
       "1  MITIIGSGRVGTAAAVIMGLLKIDTKILLIDIIKGLPQGEALDMNH...  1.1.1.37\n",
       "2  MAKEPMRVLVTGAAGQIGYALVPMIARGVMLGADQPVILHMLDIPP...  1.1.1.37\n",
       "3  MSEPIRVLVTGAAGQIAYSLLYSIGNGSVFGKDQPIILVLLDITPM...  1.1.1.37\n",
       "4  MTRTPVNVTVTGAAGQIGYALLFRIASGQLLGADVPVKLRLLEITP...  1.1.1.37"
      ]
     },
     "execution_count": 7,
     "metadata": {},
     "output_type": "execute_result"
    }
   ],
   "source": [
    "data.head()"
   ]
  },
  {
   "cell_type": "markdown",
   "metadata": {},
   "source": [
    "## Adding smiles components"
   ]
  },
  {
   "cell_type": "code",
   "execution_count": 8,
   "metadata": {},
   "outputs": [],
   "source": [
    "def filter_character(selected_data, character):\n",
    "    selected_data = selected_data[~selected_data.smiles_product_1.str.contains(character)]\n",
    "    selected_data = selected_data[~selected_data.smiles_product_2.str.contains(character)]\n",
    "    selected_data = selected_data[~selected_data.smiles_substrate_1.str.contains(character)]\n",
    "    selected_data = selected_data[~selected_data.smiles_substrate_2.str.contains(character)]\n",
    "    return selected_data"
   ]
  },
  {
   "cell_type": "code",
   "execution_count": 9,
   "metadata": {},
   "outputs": [],
   "source": [
    "def filter_smiles_characters(selected_data):\n",
    "    selected_data = filter_character(selected_data, \"s\")\n",
    "    selected_data = filter_character(selected_data, \"F\")\n",
    "    selected_data = filter_character(selected_data, \"R\")\n",
    "    selected_data = filter_character(selected_data, \"X\")\n",
    "    selected_data = filter_character(selected_data, \"6\")\n",
    "    selected_data = filter_character(selected_data, \"#\")\n",
    "    selected_data = filter_character(selected_data, \"l\")\n",
    "    selected_data = filter_character(selected_data, \"@\")\n",
    "    selected_data.smiles_product_1 = selected_data.smiles_product_1.str.replace('R', '*')\n",
    "    selected_data.smiles_product_2 = selected_data.smiles_product_2.str.replace('R', '*')\n",
    "    selected_data.smiles_substrate_1 = selected_data.smiles_substrate_1.str.replace('R', '*')\n",
    "    selected_data.smiles_substrate_2 = selected_data.smiles_substrate_2.str.replace('R', '*')\n",
    "    return selected_data"
   ]
  },
  {
   "cell_type": "code",
   "execution_count": 10,
   "metadata": {},
   "outputs": [],
   "source": [
    "# if ADD_SMILES:\n",
    "#     enzyme_smiles_map = pd.read_csv(\"../../data/protein/cgan/enzyme_with_smiles.csv\", sep='\\t', skipinitialspace=True)\n",
    "#     enzyme_smiles_map = enzyme_smiles_map.fillna(\"\")\n",
    "#     enzyme_smiles_map = filter_smiles_characters(enzyme_smiles_map)\n",
    "#     for col in SMILES_COLUMNS:\n",
    "#         enzyme_smiles_map = enzyme_smiles_map[enzyme_smiles_map[col].str.len() <= 128]\n",
    "#     merged = pd.merge(data, enzyme_smiles_map, left_on=LABEL_COLUMN, right_on='EC class', how=\"inner\")\n",
    "#     merged = merged.drop('EC class', axis=1)\n",
    "#     data = merged"
   ]
  },
  {
   "cell_type": "code",
   "execution_count": 11,
   "metadata": {},
   "outputs": [
    {
     "data": {
      "text/html": [
       "<div>\n",
       "<style scoped>\n",
       "    .dataframe tbody tr th:only-of-type {\n",
       "        vertical-align: middle;\n",
       "    }\n",
       "\n",
       "    .dataframe tbody tr th {\n",
       "        vertical-align: top;\n",
       "    }\n",
       "\n",
       "    .dataframe thead th {\n",
       "        text-align: right;\n",
       "    }\n",
       "</style>\n",
       "<table border=\"1\" class=\"dataframe\">\n",
       "  <thead>\n",
       "    <tr style=\"text-align: right;\">\n",
       "      <th></th>\n",
       "      <th>sequence</th>\n",
       "      <th>EC number</th>\n",
       "    </tr>\n",
       "  </thead>\n",
       "  <tbody>\n",
       "    <tr>\n",
       "      <th>0</th>\n",
       "      <td>MATATSASLFSTVSSSYSKASSIPHSRLQSVKFNSVPSFTGLKSTS...</td>\n",
       "      <td>1.1.1.37</td>\n",
       "    </tr>\n",
       "    <tr>\n",
       "      <th>1</th>\n",
       "      <td>MITIIGSGRVGTAAAVIMGLLKIDTKILLIDIIKGLPQGEALDMNH...</td>\n",
       "      <td>1.1.1.37</td>\n",
       "    </tr>\n",
       "    <tr>\n",
       "      <th>2</th>\n",
       "      <td>MAKEPMRVLVTGAAGQIGYALVPMIARGVMLGADQPVILHMLDIPP...</td>\n",
       "      <td>1.1.1.37</td>\n",
       "    </tr>\n",
       "    <tr>\n",
       "      <th>3</th>\n",
       "      <td>MSEPIRVLVTGAAGQIAYSLLYSIGNGSVFGKDQPIILVLLDITPM...</td>\n",
       "      <td>1.1.1.37</td>\n",
       "    </tr>\n",
       "    <tr>\n",
       "      <th>4</th>\n",
       "      <td>MTRTPVNVTVTGAAGQIGYALLFRIASGQLLGADVPVKLRLLEITP...</td>\n",
       "      <td>1.1.1.37</td>\n",
       "    </tr>\n",
       "  </tbody>\n",
       "</table>\n",
       "</div>"
      ],
      "text/plain": [
       "                                            sequence EC number\n",
       "0  MATATSASLFSTVSSSYSKASSIPHSRLQSVKFNSVPSFTGLKSTS...  1.1.1.37\n",
       "1  MITIIGSGRVGTAAAVIMGLLKIDTKILLIDIIKGLPQGEALDMNH...  1.1.1.37\n",
       "2  MAKEPMRVLVTGAAGQIGYALVPMIARGVMLGADQPVILHMLDIPP...  1.1.1.37\n",
       "3  MSEPIRVLVTGAAGQIAYSLLYSIGNGSVFGKDQPIILVLLDITPM...  1.1.1.37\n",
       "4  MTRTPVNVTVTGAAGQIGYALLFRIASGQLLGADVPVKLRLLEITP...  1.1.1.37"
      ]
     },
     "execution_count": 11,
     "metadata": {},
     "output_type": "execute_result"
    }
   ],
   "source": [
    "data.head()"
   ]
  },
  {
   "cell_type": "markdown",
   "metadata": {},
   "source": [
    "## Selecting data"
   ]
  },
  {
   "cell_type": "code",
   "execution_count": 12,
   "metadata": {},
   "outputs": [],
   "source": [
    "is_test=False\n",
    "if is_test:\n",
    "    prefix = \"test\"\n",
    "else:\n",
    "    prefix = \"train\""
   ]
  },
  {
   "cell_type": "code",
   "execution_count": 13,
   "metadata": {},
   "outputs": [
    {
     "data": {
      "text/html": [
       "<div>\n",
       "<style scoped>\n",
       "    .dataframe tbody tr th:only-of-type {\n",
       "        vertical-align: middle;\n",
       "    }\n",
       "\n",
       "    .dataframe tbody tr th {\n",
       "        vertical-align: top;\n",
       "    }\n",
       "\n",
       "    .dataframe thead th {\n",
       "        text-align: right;\n",
       "    }\n",
       "</style>\n",
       "<table border=\"1\" class=\"dataframe\">\n",
       "  <thead>\n",
       "    <tr style=\"text-align: right;\">\n",
       "      <th></th>\n",
       "      <th>sequence</th>\n",
       "      <th>EC number</th>\n",
       "    </tr>\n",
       "  </thead>\n",
       "  <tbody>\n",
       "    <tr>\n",
       "      <th>0</th>\n",
       "      <td>MATATSASLFSTVSSSYSKASSIPHSRLQSVKFNSVPSFTGLKSTS...</td>\n",
       "      <td>1.1.1.37</td>\n",
       "    </tr>\n",
       "    <tr>\n",
       "      <th>1</th>\n",
       "      <td>MITIIGSGRVGTAAAVIMGLLKIDTKILLIDIIKGLPQGEALDMNH...</td>\n",
       "      <td>1.1.1.37</td>\n",
       "    </tr>\n",
       "    <tr>\n",
       "      <th>2</th>\n",
       "      <td>MAKEPMRVLVTGAAGQIGYALVPMIARGVMLGADQPVILHMLDIPP...</td>\n",
       "      <td>1.1.1.37</td>\n",
       "    </tr>\n",
       "    <tr>\n",
       "      <th>3</th>\n",
       "      <td>MSEPIRVLVTGAAGQIAYSLLYSIGNGSVFGKDQPIILVLLDITPM...</td>\n",
       "      <td>1.1.1.37</td>\n",
       "    </tr>\n",
       "    <tr>\n",
       "      <th>4</th>\n",
       "      <td>MTRTPVNVTVTGAAGQIGYALLFRIASGQLLGADVPVKLRLLEITP...</td>\n",
       "      <td>1.1.1.37</td>\n",
       "    </tr>\n",
       "    <tr>\n",
       "      <th>...</th>\n",
       "      <td>...</td>\n",
       "      <td>...</td>\n",
       "    </tr>\n",
       "    <tr>\n",
       "      <th>43703</th>\n",
       "      <td>MELNLSVKDITGFVLGGHGDDMVPLIRYSYAGGIPLESLIPKHRLE...</td>\n",
       "      <td>1.1.1.37</td>\n",
       "    </tr>\n",
       "    <tr>\n",
       "      <th>43704</th>\n",
       "      <td>MYDKNKLFGVTTLDIIRSNTFVAELKGKSATEVEVPVIGGHSGVTI...</td>\n",
       "      <td>1.1.1.37</td>\n",
       "    </tr>\n",
       "    <tr>\n",
       "      <th>43705</th>\n",
       "      <td>MKVAVLGAAGGIGQALALLLKTQLPSGSELSLYDIAPVTPGVAVDL...</td>\n",
       "      <td>1.1.1.37</td>\n",
       "    </tr>\n",
       "    <tr>\n",
       "      <th>43706</th>\n",
       "      <td>MTATPEVAVSSNTQTLDFDALVLLLEQIFQRHGTSADVARTLALNC...</td>\n",
       "      <td>1.1.1.37</td>\n",
       "    </tr>\n",
       "    <tr>\n",
       "      <th>43707</th>\n",
       "      <td>MSAPHDSVSSPVASTLSLEALTQLLEKVFLRHGTSASVARTLAANC...</td>\n",
       "      <td>1.1.1.37</td>\n",
       "    </tr>\n",
       "  </tbody>\n",
       "</table>\n",
       "<p>43708 rows × 2 columns</p>\n",
       "</div>"
      ],
      "text/plain": [
       "                                                sequence EC number\n",
       "0      MATATSASLFSTVSSSYSKASSIPHSRLQSVKFNSVPSFTGLKSTS...  1.1.1.37\n",
       "1      MITIIGSGRVGTAAAVIMGLLKIDTKILLIDIIKGLPQGEALDMNH...  1.1.1.37\n",
       "2      MAKEPMRVLVTGAAGQIGYALVPMIARGVMLGADQPVILHMLDIPP...  1.1.1.37\n",
       "3      MSEPIRVLVTGAAGQIAYSLLYSIGNGSVFGKDQPIILVLLDITPM...  1.1.1.37\n",
       "4      MTRTPVNVTVTGAAGQIGYALLFRIASGQLLGADVPVKLRLLEITP...  1.1.1.37\n",
       "...                                                  ...       ...\n",
       "43703  MELNLSVKDITGFVLGGHGDDMVPLIRYSYAGGIPLESLIPKHRLE...  1.1.1.37\n",
       "43704  MYDKNKLFGVTTLDIIRSNTFVAELKGKSATEVEVPVIGGHSGVTI...  1.1.1.37\n",
       "43705  MKVAVLGAAGGIGQALALLLKTQLPSGSELSLYDIAPVTPGVAVDL...  1.1.1.37\n",
       "43706  MTATPEVAVSSNTQTLDFDALVLLLEQIFQRHGTSADVARTLALNC...  1.1.1.37\n",
       "43707  MSAPHDSVSSPVASTLSLEALTQLLEKVFLRHGTSASVARTLAANC...  1.1.1.37\n",
       "\n",
       "[43708 rows x 2 columns]"
      ]
     },
     "execution_count": 13,
     "metadata": {},
     "output_type": "execute_result"
    }
   ],
   "source": [
    "data"
   ]
  },
  {
   "cell_type": "code",
   "execution_count": 14,
   "metadata": {},
   "outputs": [],
   "source": [
    "properties = {}\n",
    "selected_data = data[(data.sequence.str.len() <= MAX_SEQUENCE_LENGTH) &(data.sequence.str.len() >= 64)]\n",
    "if ADD_SMILES:\n",
    "    selected_data = filter_smiles_characters(selected_data)\n",
    "    selected_data =  selected_data[(selected_data[LABEL_COLUMN].str.startswith(\"3.\")) | (selected_data[LABEL_COLUMN].str.startswith(\"4.\")) | (selected_data[LABEL_COLUMN].str.startswith(\"6.\"))]\n",
    "if is_test:\n",
    "    selected_data = selected_data.groupby(LABEL_COLUMN, group_keys=False).filter(lambda x: len(x) < MIN_NUM_EXAMPLES)\n",
    "    selected_data = selected_data.groupby(LABEL_COLUMN, group_keys=False).filter(lambda x: len(x) >= 1)\n",
    "else:\n",
    "    selected_data = selected_data.groupby(LABEL_COLUMN, group_keys=False).filter(lambda x: len(x) >= MIN_NUM_EXAMPLES)"
   ]
  },
  {
   "cell_type": "code",
   "execution_count": 15,
   "metadata": {},
   "outputs": [],
   "source": [
    "selected_data = selected_data[selected_data[\"EC number\"] == \"1.1.1.37\"]"
   ]
  },
  {
   "cell_type": "code",
   "execution_count": 16,
   "metadata": {
    "scrolled": true
   },
   "outputs": [
    {
     "data": {
      "text/plain": [
       "43503"
      ]
     },
     "execution_count": 16,
     "metadata": {},
     "output_type": "execute_result"
    }
   ],
   "source": [
    "len(selected_data)"
   ]
  },
  {
   "cell_type": "code",
   "execution_count": 17,
   "metadata": {
    "scrolled": false
   },
   "outputs": [
    {
     "data": {
      "text/html": [
       "<div>\n",
       "<style scoped>\n",
       "    .dataframe tbody tr th:only-of-type {\n",
       "        vertical-align: middle;\n",
       "    }\n",
       "\n",
       "    .dataframe tbody tr th {\n",
       "        vertical-align: top;\n",
       "    }\n",
       "\n",
       "    .dataframe thead th {\n",
       "        text-align: right;\n",
       "    }\n",
       "</style>\n",
       "<table border=\"1\" class=\"dataframe\">\n",
       "  <thead>\n",
       "    <tr style=\"text-align: right;\">\n",
       "      <th></th>\n",
       "      <th>sequence</th>\n",
       "    </tr>\n",
       "    <tr>\n",
       "      <th>EC number</th>\n",
       "      <th></th>\n",
       "    </tr>\n",
       "  </thead>\n",
       "  <tbody>\n",
       "    <tr>\n",
       "      <th>1.1.1.37</th>\n",
       "      <td>43503</td>\n",
       "    </tr>\n",
       "  </tbody>\n",
       "</table>\n",
       "</div>"
      ],
      "text/plain": [
       "           sequence\n",
       "EC number          \n",
       "1.1.1.37      43503"
      ]
     },
     "execution_count": 17,
     "metadata": {},
     "output_type": "execute_result"
    }
   ],
   "source": [
    "selected_data.groupby(LABEL_COLUMN).count()"
   ]
  },
  {
   "cell_type": "markdown",
   "metadata": {},
   "source": [
    "## Extra preprocessing steps"
   ]
  },
  {
   "cell_type": "markdown",
   "metadata": {},
   "source": [
    "### Adding label"
   ]
  },
  {
   "cell_type": "markdown",
   "metadata": {},
   "source": [
    "Converting unique label to int"
   ]
  },
  {
   "cell_type": "code",
   "execution_count": 18,
   "metadata": {
    "scrolled": false
   },
   "outputs": [
    {
     "name": "stdout",
     "output_type": "stream",
     "text": [
      "There are 1 unique categories\n"
     ]
    },
    {
     "data": {
      "text/html": [
       "<div>\n",
       "<style scoped>\n",
       "    .dataframe tbody tr th:only-of-type {\n",
       "        vertical-align: middle;\n",
       "    }\n",
       "\n",
       "    .dataframe tbody tr th {\n",
       "        vertical-align: top;\n",
       "    }\n",
       "\n",
       "    .dataframe thead th {\n",
       "        text-align: right;\n",
       "    }\n",
       "</style>\n",
       "<table border=\"1\" class=\"dataframe\">\n",
       "  <thead>\n",
       "    <tr style=\"text-align: right;\">\n",
       "      <th></th>\n",
       "      <th>sequence</th>\n",
       "      <th>EC number</th>\n",
       "      <th>Label</th>\n",
       "    </tr>\n",
       "  </thead>\n",
       "  <tbody>\n",
       "    <tr>\n",
       "      <th>0</th>\n",
       "      <td>MATATSASLFSTVSSSYSKASSIPHSRLQSVKFNSVPSFTGLKSTS...</td>\n",
       "      <td>1.1.1.37</td>\n",
       "      <td>0</td>\n",
       "    </tr>\n",
       "    <tr>\n",
       "      <th>1</th>\n",
       "      <td>MITIIGSGRVGTAAAVIMGLLKIDTKILLIDIIKGLPQGEALDMNH...</td>\n",
       "      <td>1.1.1.37</td>\n",
       "      <td>0</td>\n",
       "    </tr>\n",
       "    <tr>\n",
       "      <th>2</th>\n",
       "      <td>MAKEPMRVLVTGAAGQIGYALVPMIARGVMLGADQPVILHMLDIPP...</td>\n",
       "      <td>1.1.1.37</td>\n",
       "      <td>0</td>\n",
       "    </tr>\n",
       "    <tr>\n",
       "      <th>3</th>\n",
       "      <td>MSEPIRVLVTGAAGQIAYSLLYSIGNGSVFGKDQPIILVLLDITPM...</td>\n",
       "      <td>1.1.1.37</td>\n",
       "      <td>0</td>\n",
       "    </tr>\n",
       "    <tr>\n",
       "      <th>4</th>\n",
       "      <td>MTRTPVNVTVTGAAGQIGYALLFRIASGQLLGADVPVKLRLLEITP...</td>\n",
       "      <td>1.1.1.37</td>\n",
       "      <td>0</td>\n",
       "    </tr>\n",
       "  </tbody>\n",
       "</table>\n",
       "</div>"
      ],
      "text/plain": [
       "                                            sequence EC number  Label\n",
       "0  MATATSASLFSTVSSSYSKASSIPHSRLQSVKFNSVPSFTGLKSTS...  1.1.1.37      0\n",
       "1  MITIIGSGRVGTAAAVIMGLLKIDTKILLIDIIKGLPQGEALDMNH...  1.1.1.37      0\n",
       "2  MAKEPMRVLVTGAAGQIGYALVPMIARGVMLGADQPVILHMLDIPP...  1.1.1.37      0\n",
       "3  MSEPIRVLVTGAAGQIAYSLLYSIGNGSVFGKDQPIILVLLDITPM...  1.1.1.37      0\n",
       "4  MTRTPVNVTVTGAAGQIGYALLFRIASGQLLGADVPVKLRLLEITP...  1.1.1.37      0"
      ]
     },
     "execution_count": 18,
     "metadata": {},
     "output_type": "execute_result"
    }
   ],
   "source": [
    "id_to_category, category_to_id = get_category_to_id_mapping(selected_data, LABEL_COLUMN)\n",
    "selected_data[\"Label\"] = [ category_to_id[val] for index, val in selected_data[LABEL_COLUMN].iteritems()]\n",
    "selected_data.head()"
   ]
  },
  {
   "cell_type": "markdown",
   "metadata": {},
   "source": [
    "### Train/test split"
   ]
  },
  {
   "cell_type": "code",
   "execution_count": 19,
   "metadata": {
    "scrolled": true
   },
   "outputs": [],
   "source": [
    "from sklearn.model_selection import train_test_split\n",
    "if IS_VALIDATION_REQUIRED:\n",
    "    train_data, val_data = train_test_split(selected_data, test_size=0.2)\n",
    "else:\n",
    "    train_data = selected_data\n",
    "    val_data = pd.DataFrame(columns=[selected_data.columns])"
   ]
  },
  {
   "cell_type": "code",
   "execution_count": 20,
   "metadata": {
    "scrolled": true
   },
   "outputs": [
    {
     "data": {
      "text/plain": [
       "((43503, 3), (0, 3))"
      ]
     },
     "execution_count": 20,
     "metadata": {},
     "output_type": "execute_result"
    }
   ],
   "source": [
    "train_data.shape, val_data.shape"
   ]
  },
  {
   "cell_type": "markdown",
   "metadata": {},
   "source": [
    "### CSV"
   ]
  },
  {
   "cell_type": "code",
   "execution_count": 21,
   "metadata": {},
   "outputs": [],
   "source": [
    "if ADD_SMILES:\n",
    "    PATH = \"../data/protein/Length_{}_Examples_{}_{}/\".format(MAX_SEQUENCE_LENGTH, MIN_NUM_EXAMPLES, VERSION)\n",
    "else:\n",
    "    PATH = \"../data/protein/Length_{}_{}/\".format(MAX_SEQUENCE_LENGTH, VERSION)"
   ]
  },
  {
   "cell_type": "code",
   "execution_count": 22,
   "metadata": {},
   "outputs": [],
   "source": [
    "os.makedirs(PATH, exist_ok=True)"
   ]
  },
  {
   "cell_type": "code",
   "execution_count": 23,
   "metadata": {
    "scrolled": true
   },
   "outputs": [],
   "source": [
    "def save_as_csv(is_test, data, val_prefix=\"\"):\n",
    "    # Sequence csv\n",
    "    seq_data = data[[\"Label\", LABEL_COLUMN, \"sequence\"]]\n",
    "    seq_path = os.path.join(PATH, \"{}{}_sequences.csv\".format(prefix,val_prefix))\n",
    "    seq_data.to_csv(seq_path, sep='\\t', index=None)\n",
    "    # Reaction csv\n",
    "    reaction_data = data[[\"Label\", LABEL_COLUMN]].drop_duplicates().sort_values(\"EC number\")\n",
    "    reaction_path = os.path.join(PATH,\"{}{}_reactions.csv\".format(prefix, val_prefix))\n",
    "    reaction_data.to_csv(reaction_path, sep='\\t', index=None)"
   ]
  },
  {
   "cell_type": "code",
   "execution_count": 24,
   "metadata": {},
   "outputs": [],
   "source": [
    "save_as_csv(is_test, train_data)\n",
    "if IS_VALIDATION_REQUIRED:\n",
    "    save_as_csv(is_test, val_data, \"val_\")"
   ]
  },
  {
   "cell_type": "markdown",
   "metadata": {},
   "source": [
    "### Sequences"
   ]
  },
  {
   "cell_type": "code",
   "execution_count": 25,
   "metadata": {
    "scrolled": true
   },
   "outputs": [],
   "source": [
    "def save_sequences_as_tfrecords(original_data, prefix, num_threads = NUM_THREADS):\n",
    "    data = filter_non_standard_amino_acids(original_data, \"sequence\")\n",
    "    data[\"sequence\"] = from_amino_acid_to_id(data, \"sequence\")\n",
    "    data = data[[\"Label\", \"sequence\"]]\n",
    "    save_as_tfrecords_multithreaded(os.path.join(PATH, prefix), data) "
   ]
  },
  {
   "cell_type": "code",
   "execution_count": 26,
   "metadata": {
    "scrolled": true
   },
   "outputs": [
    {
     "name": "stdout",
     "output_type": "stream",
     "text": [
      "Data was stored in ../data/protein/Length_512_Single/train\\0.tfrecords\n",
      "Completed all threads in 9.091354846954346 seconds\n"
     ]
    }
   ],
   "source": [
    "save_sequences_as_tfrecords(train_data, prefix)\n",
    "#if IS_VALIDATION_REQUIRED:\n",
    "#    save_sequences_as_tfrecords(val_data, \"val\")"
   ]
  },
  {
   "cell_type": "markdown",
   "metadata": {},
   "source": [
    "### Reactions"
   ]
  },
  {
   "cell_type": "code",
   "execution_count": 27,
   "metadata": {},
   "outputs": [],
   "source": [
    "def save_reaction_as_tfrecords(original_data, prefix):\n",
    "    data = original_data[[\"Label\", *SMILES_COLUMNS]].drop_duplicates().sort_values(\"Label\")\n",
    "    for smiles_col in SMILES_COLUMNS:\n",
    "        new_col = []\n",
    "        for index, row in data[smiles_col].iteritems():\n",
    "            new_col.append([SMILES_CHARACTER_TO_ID[char] for char in row ])\n",
    "        data[smiles_col] = new_col\n",
    "    path = os.path.join(PATH, \"{}.npy\".format(prefix))\n",
    "    np.save(path, data)\n",
    "    #save_as_numpy_array(path, data, columns=SMILES_COLUMNS) "
   ]
  },
  {
   "cell_type": "code",
   "execution_count": 28,
   "metadata": {
    "scrolled": true
   },
   "outputs": [
    {
     "ename": "KeyError",
     "evalue": "\"['smiles_substrate_2', 'smiles_product_1', 'smiles_substrate_1', 'smiles_product_2'] not in index\"",
     "output_type": "error",
     "traceback": [
      "\u001b[1;31m---------------------------------------------------------------------------\u001b[0m",
      "\u001b[1;31mKeyError\u001b[0m                                  Traceback (most recent call last)",
      "\u001b[1;32m<ipython-input-28-2daef6b2e290>\u001b[0m in \u001b[0;36m<module>\u001b[1;34m\u001b[0m\n\u001b[1;32m----> 1\u001b[1;33m \u001b[0msave_reaction_as_tfrecords\u001b[0m\u001b[1;33m(\u001b[0m\u001b[0mtrain_data\u001b[0m\u001b[1;33m,\u001b[0m \u001b[0mprefix\u001b[0m \u001b[1;33m+\u001b[0m \u001b[1;34m\"_reactions\"\u001b[0m\u001b[1;33m)\u001b[0m\u001b[1;33m\u001b[0m\u001b[1;33m\u001b[0m\u001b[0m\n\u001b[0m\u001b[0;32m      2\u001b[0m \u001b[1;31m# if IS_VALIDATION_REQUIRED:\u001b[0m\u001b[1;33m\u001b[0m\u001b[1;33m\u001b[0m\u001b[1;33m\u001b[0m\u001b[0m\n\u001b[0;32m      3\u001b[0m \u001b[1;31m#     save_reaction_as_tfrecords(val_data, \"val_reactions\")\u001b[0m\u001b[1;33m\u001b[0m\u001b[1;33m\u001b[0m\u001b[1;33m\u001b[0m\u001b[0m\n",
      "\u001b[1;32m<ipython-input-27-dd6ca6b82153>\u001b[0m in \u001b[0;36msave_reaction_as_tfrecords\u001b[1;34m(original_data, prefix)\u001b[0m\n\u001b[0;32m      1\u001b[0m \u001b[1;32mdef\u001b[0m \u001b[0msave_reaction_as_tfrecords\u001b[0m\u001b[1;33m(\u001b[0m\u001b[0moriginal_data\u001b[0m\u001b[1;33m,\u001b[0m \u001b[0mprefix\u001b[0m\u001b[1;33m)\u001b[0m\u001b[1;33m:\u001b[0m\u001b[1;33m\u001b[0m\u001b[1;33m\u001b[0m\u001b[0m\n\u001b[1;32m----> 2\u001b[1;33m     \u001b[0mdata\u001b[0m \u001b[1;33m=\u001b[0m \u001b[0moriginal_data\u001b[0m\u001b[1;33m[\u001b[0m\u001b[1;33m[\u001b[0m\u001b[1;34m\"Label\"\u001b[0m\u001b[1;33m,\u001b[0m \u001b[1;33m*\u001b[0m\u001b[0mSMILES_COLUMNS\u001b[0m\u001b[1;33m]\u001b[0m\u001b[1;33m]\u001b[0m\u001b[1;33m.\u001b[0m\u001b[0mdrop_duplicates\u001b[0m\u001b[1;33m(\u001b[0m\u001b[1;33m)\u001b[0m\u001b[1;33m.\u001b[0m\u001b[0msort_values\u001b[0m\u001b[1;33m(\u001b[0m\u001b[1;34m\"Label\"\u001b[0m\u001b[1;33m)\u001b[0m\u001b[1;33m\u001b[0m\u001b[1;33m\u001b[0m\u001b[0m\n\u001b[0m\u001b[0;32m      3\u001b[0m     \u001b[1;32mfor\u001b[0m \u001b[0msmiles_col\u001b[0m \u001b[1;32min\u001b[0m \u001b[0mSMILES_COLUMNS\u001b[0m\u001b[1;33m:\u001b[0m\u001b[1;33m\u001b[0m\u001b[1;33m\u001b[0m\u001b[0m\n\u001b[0;32m      4\u001b[0m         \u001b[0mnew_col\u001b[0m \u001b[1;33m=\u001b[0m \u001b[1;33m[\u001b[0m\u001b[1;33m]\u001b[0m\u001b[1;33m\u001b[0m\u001b[1;33m\u001b[0m\u001b[0m\n\u001b[0;32m      5\u001b[0m         \u001b[1;32mfor\u001b[0m \u001b[0mindex\u001b[0m\u001b[1;33m,\u001b[0m \u001b[0mrow\u001b[0m \u001b[1;32min\u001b[0m \u001b[0mdata\u001b[0m\u001b[1;33m[\u001b[0m\u001b[0msmiles_col\u001b[0m\u001b[1;33m]\u001b[0m\u001b[1;33m.\u001b[0m\u001b[0miteritems\u001b[0m\u001b[1;33m(\u001b[0m\u001b[1;33m)\u001b[0m\u001b[1;33m:\u001b[0m\u001b[1;33m\u001b[0m\u001b[1;33m\u001b[0m\u001b[0m\n",
      "\u001b[1;32m~\\Anaconda3\\envs\\python36\\lib\\site-packages\\pandas\\core\\frame.py\u001b[0m in \u001b[0;36m__getitem__\u001b[1;34m(self, key)\u001b[0m\n\u001b[0;32m   2804\u001b[0m             \u001b[1;32mif\u001b[0m \u001b[0mis_iterator\u001b[0m\u001b[1;33m(\u001b[0m\u001b[0mkey\u001b[0m\u001b[1;33m)\u001b[0m\u001b[1;33m:\u001b[0m\u001b[1;33m\u001b[0m\u001b[1;33m\u001b[0m\u001b[0m\n\u001b[0;32m   2805\u001b[0m                 \u001b[0mkey\u001b[0m \u001b[1;33m=\u001b[0m \u001b[0mlist\u001b[0m\u001b[1;33m(\u001b[0m\u001b[0mkey\u001b[0m\u001b[1;33m)\u001b[0m\u001b[1;33m\u001b[0m\u001b[1;33m\u001b[0m\u001b[0m\n\u001b[1;32m-> 2806\u001b[1;33m             \u001b[0mindexer\u001b[0m \u001b[1;33m=\u001b[0m \u001b[0mself\u001b[0m\u001b[1;33m.\u001b[0m\u001b[0mloc\u001b[0m\u001b[1;33m.\u001b[0m\u001b[0m_get_listlike_indexer\u001b[0m\u001b[1;33m(\u001b[0m\u001b[0mkey\u001b[0m\u001b[1;33m,\u001b[0m \u001b[0maxis\u001b[0m\u001b[1;33m=\u001b[0m\u001b[1;36m1\u001b[0m\u001b[1;33m,\u001b[0m \u001b[0mraise_missing\u001b[0m\u001b[1;33m=\u001b[0m\u001b[1;32mTrue\u001b[0m\u001b[1;33m)\u001b[0m\u001b[1;33m[\u001b[0m\u001b[1;36m1\u001b[0m\u001b[1;33m]\u001b[0m\u001b[1;33m\u001b[0m\u001b[1;33m\u001b[0m\u001b[0m\n\u001b[0m\u001b[0;32m   2807\u001b[0m \u001b[1;33m\u001b[0m\u001b[0m\n\u001b[0;32m   2808\u001b[0m         \u001b[1;31m# take() does not accept boolean indexers\u001b[0m\u001b[1;33m\u001b[0m\u001b[1;33m\u001b[0m\u001b[1;33m\u001b[0m\u001b[0m\n",
      "\u001b[1;32m~\\Anaconda3\\envs\\python36\\lib\\site-packages\\pandas\\core\\indexing.py\u001b[0m in \u001b[0;36m_get_listlike_indexer\u001b[1;34m(self, key, axis, raise_missing)\u001b[0m\n\u001b[0;32m   1550\u001b[0m \u001b[1;33m\u001b[0m\u001b[0m\n\u001b[0;32m   1551\u001b[0m         self._validate_read_indexer(\n\u001b[1;32m-> 1552\u001b[1;33m             \u001b[0mkeyarr\u001b[0m\u001b[1;33m,\u001b[0m \u001b[0mindexer\u001b[0m\u001b[1;33m,\u001b[0m \u001b[0mo\u001b[0m\u001b[1;33m.\u001b[0m\u001b[0m_get_axis_number\u001b[0m\u001b[1;33m(\u001b[0m\u001b[0maxis\u001b[0m\u001b[1;33m)\u001b[0m\u001b[1;33m,\u001b[0m \u001b[0mraise_missing\u001b[0m\u001b[1;33m=\u001b[0m\u001b[0mraise_missing\u001b[0m\u001b[1;33m\u001b[0m\u001b[1;33m\u001b[0m\u001b[0m\n\u001b[0m\u001b[0;32m   1553\u001b[0m         )\n\u001b[0;32m   1554\u001b[0m         \u001b[1;32mreturn\u001b[0m \u001b[0mkeyarr\u001b[0m\u001b[1;33m,\u001b[0m \u001b[0mindexer\u001b[0m\u001b[1;33m\u001b[0m\u001b[1;33m\u001b[0m\u001b[0m\n",
      "\u001b[1;32m~\\Anaconda3\\envs\\python36\\lib\\site-packages\\pandas\\core\\indexing.py\u001b[0m in \u001b[0;36m_validate_read_indexer\u001b[1;34m(self, key, indexer, axis, raise_missing)\u001b[0m\n\u001b[0;32m   1643\u001b[0m             \u001b[1;32mif\u001b[0m \u001b[1;32mnot\u001b[0m \u001b[1;33m(\u001b[0m\u001b[0mself\u001b[0m\u001b[1;33m.\u001b[0m\u001b[0mname\u001b[0m \u001b[1;33m==\u001b[0m \u001b[1;34m\"loc\"\u001b[0m \u001b[1;32mand\u001b[0m \u001b[1;32mnot\u001b[0m \u001b[0mraise_missing\u001b[0m\u001b[1;33m)\u001b[0m\u001b[1;33m:\u001b[0m\u001b[1;33m\u001b[0m\u001b[1;33m\u001b[0m\u001b[0m\n\u001b[0;32m   1644\u001b[0m                 \u001b[0mnot_found\u001b[0m \u001b[1;33m=\u001b[0m \u001b[0mlist\u001b[0m\u001b[1;33m(\u001b[0m\u001b[0mset\u001b[0m\u001b[1;33m(\u001b[0m\u001b[0mkey\u001b[0m\u001b[1;33m)\u001b[0m \u001b[1;33m-\u001b[0m \u001b[0mset\u001b[0m\u001b[1;33m(\u001b[0m\u001b[0max\u001b[0m\u001b[1;33m)\u001b[0m\u001b[1;33m)\u001b[0m\u001b[1;33m\u001b[0m\u001b[1;33m\u001b[0m\u001b[0m\n\u001b[1;32m-> 1645\u001b[1;33m                 \u001b[1;32mraise\u001b[0m \u001b[0mKeyError\u001b[0m\u001b[1;33m(\u001b[0m\u001b[1;34mf\"{not_found} not in index\"\u001b[0m\u001b[1;33m)\u001b[0m\u001b[1;33m\u001b[0m\u001b[1;33m\u001b[0m\u001b[0m\n\u001b[0m\u001b[0;32m   1646\u001b[0m \u001b[1;33m\u001b[0m\u001b[0m\n\u001b[0;32m   1647\u001b[0m             \u001b[1;31m# we skip the warning on Categorical/Interval\u001b[0m\u001b[1;33m\u001b[0m\u001b[1;33m\u001b[0m\u001b[1;33m\u001b[0m\u001b[0m\n",
      "\u001b[1;31mKeyError\u001b[0m: \"['smiles_substrate_2', 'smiles_product_1', 'smiles_substrate_1', 'smiles_product_2'] not in index\""
     ]
    }
   ],
   "source": [
    "save_reaction_as_tfrecords(train_data, prefix + \"_reactions\")\n",
    "# if IS_VALIDATION_REQUIRED:\n",
    "#     save_reaction_as_tfrecords(val_data, \"val_reactions\")    "
   ]
  },
  {
   "cell_type": "markdown",
   "metadata": {},
   "source": [
    "### Properties"
   ]
  },
  {
   "cell_type": "code",
   "execution_count": 29,
   "metadata": {
    "scrolled": true
   },
   "outputs": [],
   "source": [
    "def get_class_mapping(selected_data):\n",
    "    unique_classes = selected_data[[LABEL_COLUMN, \"Label\"]].sort_values(LABEL_COLUMN).drop_duplicates()\n",
    "    mapping = pd.Series(unique_classes[LABEL_COLUMN].values,index=unique_classes.Label).to_dict()\n",
    "    return mapping"
   ]
  },
  {
   "cell_type": "code",
   "execution_count": 30,
   "metadata": {},
   "outputs": [],
   "source": [
    "def get_class_counts(selected_data):\n",
    "    class_counts = selected_data[[LABEL_COLUMN, \"Label\"]].sort_values(LABEL_COLUMN).groupby(LABEL_COLUMN).count().reset_index()\n",
    "    counts = pd.Series(class_counts.Label.values,index=class_counts[LABEL_COLUMN]).to_dict()\n",
    "    return counts"
   ]
  },
  {
   "cell_type": "code",
   "execution_count": 31,
   "metadata": {
    "scrolled": true
   },
   "outputs": [],
   "source": [
    "def get_properties(data, validation_required=False):\n",
    "    properties[\"seq_length\"] = MAX_SEQUENCE_LENGTH\n",
    "    properties[\"min_num_examples\"] = MIN_NUM_EXAMPLES\n",
    "    properties[\"total_records\"] = len(selected_data)\n",
    "    properties[\"num_of_classes\"] = len(data.Label.unique())\n",
    "    if not validation_required:\n",
    "        properties[\"num_examples\"] = get_class_counts(data)\n",
    "        properties[\"class_mapping\"] = get_class_mapping(data)\n",
    "    return properties"
   ]
  },
  {
   "cell_type": "code",
   "execution_count": 32,
   "metadata": {
    "scrolled": true
   },
   "outputs": [
    {
     "data": {
      "text/plain": [
       "{'seq_length': 512,\n",
       " 'min_num_examples': 200,\n",
       " 'total_records': 43503,\n",
       " 'num_of_classes': 1,\n",
       " 'num_examples': {'1.1.1.37': 43503},\n",
       " 'class_mapping': {0: '1.1.1.37'}}"
      ]
     },
     "execution_count": 32,
     "metadata": {},
     "output_type": "execute_result"
    }
   ],
   "source": [
    "properties = get_properties(selected_data)\n",
    "properties"
   ]
  },
  {
   "cell_type": "code",
   "execution_count": 33,
   "metadata": {
    "scrolled": true
   },
   "outputs": [
    {
     "name": "stdout",
     "output_type": "stream",
     "text": [
      "Properties saved in ../data/protein/Length_512_Single/properties.json\n"
     ]
    }
   ],
   "source": [
    "if is_test:\n",
    "    filename = 'properties_test.json'\n",
    "else:\n",
    "    filename = 'properties.json'\n",
    "full_path = os.path.join(PATH, filename)\n",
    "with open(full_path, 'w') as outfile:\n",
    "    json.dump(properties, outfile)\n",
    "    \n",
    "if IS_VALIDATION_REQUIRED:\n",
    "    full_path = os.path.join(PATH, 'properties_test.json')\n",
    "    with open(full_path, 'w') as outfile:\n",
    "        json.dump(get_properties(test, True), outfile)\n",
    "        print(\"Test Properties saved in {}\".format(full_path))\n",
    "    \n",
    "print(\"Properties saved in {}\".format(full_path))"
   ]
  },
  {
   "cell_type": "markdown",
   "metadata": {},
   "source": [
    " #### !!!!!!!!!!!!!!! That is all done !!!!!!!!!!!!!"
   ]
  },
  {
   "cell_type": "code",
   "execution_count": null,
   "metadata": {},
   "outputs": [],
   "source": []
  },
  {
   "cell_type": "markdown",
   "metadata": {},
   "source": [
    "# End of preprocessing"
   ]
  }
 ],
 "metadata": {
  "kernelspec": {
   "display_name": "Python 3",
   "language": "python",
   "name": "python3"
  },
  "language_info": {
   "codemirror_mode": {
    "name": "ipython",
    "version": 3
   },
   "file_extension": ".py",
   "mimetype": "text/x-python",
   "name": "python",
   "nbconvert_exporter": "python",
   "pygments_lexer": "ipython3",
   "version": "3.6.7"
  }
 },
 "nbformat": 4,
 "nbformat_minor": 2
}
